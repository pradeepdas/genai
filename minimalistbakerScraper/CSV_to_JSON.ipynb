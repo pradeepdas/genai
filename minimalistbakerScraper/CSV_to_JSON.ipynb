{
  "nbformat": 4,
  "nbformat_minor": 0,
  "metadata": {
    "colab": {
      "provenance": []
    },
    "kernelspec": {
      "name": "python3",
      "display_name": "Python 3"
    },
    "language_info": {
      "name": "python"
    }
  },
  "cells": [
    {
      "cell_type": "markdown",
      "source": [
        "**Importing Pandas**"
      ],
      "metadata": {
        "id": "upQEQ7azDwlw"
      }
    },
    {
      "cell_type": "code",
      "execution_count": null,
      "metadata": {
        "id": "Son4tqUE5-5b"
      },
      "outputs": [],
      "source": [
        "import pandas as pd # Python library used for working with data sets"
      ]
    },
    {
      "cell_type": "markdown",
      "source": [
        "**Importing the .csv file**"
      ],
      "metadata": {
        "id": "bQMxECUtD4FL"
      }
    },
    {
      "cell_type": "code",
      "source": [
        "csv_file = r'csv file path' # Provide the .csv file path\n",
        "health_records = pd.read_csv(csv_file, sep=',')"
      ],
      "metadata": {
        "id": "Mubp4pgE6H7X"
      },
      "execution_count": null,
      "outputs": []
    },
    {
      "cell_type": "markdown",
      "source": [
        "**Creating and exporting .json**"
      ],
      "metadata": {
        "id": "aCrtUFFQEn0J"
      }
    },
    {
      "cell_type": "code",
      "source": [
        "json_output = r'add.json ' #provide the output folder path and create file. For example records.json\n",
        "output = health_records.to_json(json_output, indent = 1, orient = 'records')"
      ],
      "metadata": {
        "id": "XTKMbuTA6UDj"
      },
      "execution_count": null,
      "outputs": []
    }
  ]
}